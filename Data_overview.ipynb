{
 "cells": [
  {
   "cell_type": "code",
   "execution_count": 1,
   "id": "8d9c2ac2-f283-44df-b475-09a7176def29",
   "metadata": {},
   "outputs": [],
   "source": [
    "import pandas as pd\n",
    "import seaborn as sns\n",
    "import matplotlib.pyplot as plt\n",
    "import glob\n",
    "import os\n",
    "import subprocess"
   ]
  },
  {
   "cell_type": "code",
   "execution_count": 2,
   "id": "41c54194-2d1c-44b7-843a-fb4ef8931919",
   "metadata": {},
   "outputs": [],
   "source": [
    "# Load in sample sheet\n",
    "df = pd.read_excel('GSP_Sample_Sheet.xlsx')"
   ]
  },
  {
   "cell_type": "code",
   "execution_count": 3,
   "id": "cf86aaa6-d199-427d-a46c-e6c368f3f61e",
   "metadata": {},
   "outputs": [],
   "source": [
    "# Translate the sample numbers to complete_name\n",
    "meta = pd.read_csv('../data/metadata_fixed.csv', index_col=0)\n",
    "meta['sample_code'] = meta['name_meta'].str.extract(r\"_(\\d{3,4})$\").fillna(0).astype(int)\n",
    "df = df.merge(meta[['sample_code', 'complete_name', 'genepid']], left_on='Sample Code', right_on='sample_code')"
   ]
  },
  {
   "cell_type": "code",
   "execution_count": 4,
   "id": "2fe90b5b-a9bb-4440-84ec-2329414d31e9",
   "metadata": {},
   "outputs": [],
   "source": [
    "target_file = 'GSP_samples_data.xlsx'\n",
    "\n",
    "writer = pd.ExcelWriter(target_file, mode='a', if_sheet_exists='replace')\n",
    "\n",
    "df.to_excel(writer, sheet_name='sample_metadata', index=None)"
   ]
  },
  {
   "cell_type": "markdown",
   "id": "e1a13a27-c7ec-436b-8d4d-0cb5b6a2b14a",
   "metadata": {},
   "source": [
    "# PanRes metadata"
   ]
  },
  {
   "cell_type": "code",
   "execution_count": 5,
   "id": "6090dcb3-a88b-4c66-8477-e15af63e0f7f",
   "metadata": {},
   "outputs": [],
   "source": [
    "panres_meta = pd.read_csv('../data/panres_annotations.tsv', sep='\\t', skiprows=1)\n",
    "panres_meta['gene'] = panres_meta['gene'].str.replace('_v1.0.1', '')"
   ]
  },
  {
   "cell_type": "code",
   "execution_count": 6,
   "id": "5844d74c-25c1-4a0d-ac8d-3f31c39443d1",
   "metadata": {},
   "outputs": [],
   "source": [
    "# Extract gene names\n",
    "resfinder_genes = panres_meta.query(\"variable == 'database' & value == 'resfinder'\")['gene'].unique().tolist()\n",
    "resfinder_fa = panres_meta.loc[\n",
    "    (panres_meta['gene'].isin(resfinder_genes)) & (panres_meta['variable'] == 'fa_name') & (panres_meta['value'].str.startswith('resfinder'))\n",
    "].merge(\n",
    "    panres_meta.loc[(panres_meta['gene'].isin(resfinder_genes)) & (panres_meta['variable'] == 'class')].pivot_table(index='gene', columns='variable', values='value', aggfunc=\"/\".join),\n",
    "    left_on='gene', right_index=True\n",
    ").merge(\n",
    "    panres_meta.loc[(panres_meta['gene'].isin(resfinder_genes)) & (panres_meta['variable'] == 'gene_length')].drop(columns='variable').rename(columns={'value': 'gene_length'}),\n",
    "    on='gene'\n",
    ")\n",
    "resfinder_fa['value'] = resfinder_fa['value'].str.replace('resfinder|', '')\n",
    "\n",
    "resfinder_fa.drop(columns=['variable']).rename(columns={'value': 'fasta_header'}).to_excel(writer, sheet_name='resfinder_metadata', index=None)"
   ]
  },
  {
   "cell_type": "code",
   "execution_count": 7,
   "id": "26a06d3a-7988-435e-ab24-016224d47c92",
   "metadata": {},
   "outputs": [],
   "source": [
    "biocide_genes = panres_meta.query(\"variable == 'resistance_type' & value == 'biocide'\")['gene'].unique().tolist()\n",
    "\n",
    "biocide_fa = panres_meta.loc[\n",
    "    (panres_meta['gene'].isin(biocide_genes)) & (panres_meta['variable'] == 'fa_name') & (panres_meta['value'].str.startswith('megares'))\n",
    "].merge(\n",
    "     panres_meta.loc[(panres_meta['gene'].isin(biocide_genes)) & (panres_meta['variable'] == 'gene_length')].drop(columns='variable').rename(columns={'value': 'gene_length'}),\n",
    "    on='gene'\n",
    ")\n",
    "biocide_fa['value'] = biocide_fa['value'].str.replace('megares|', '')\n",
    "biocide_fa['gene_name'] = biocide_fa['value'].str.extract(r\"\\|(\\w+)$\")\n",
    "\n",
    "pattern = r\"\\b(\\w+(?:_\\w+)*_\\(\\w+\\)_resistance\\b|\\b\\w+(?:_\\w+)*_resistance)\\b\"\n",
    "biocide_fa['compound'] = biocide_fa['value'].str.extract(pattern)[0].values\n",
    "\n",
    "biocide_fa.drop(columns=['variable']).rename(columns={'value': 'fasta_header'}).to_excel(writer, sheet_name='biocide_metadata', index=None)"
   ]
  },
  {
   "cell_type": "markdown",
   "id": "f9b8d3c3-b3a7-480c-adfc-87f91598e027",
   "metadata": {},
   "source": [
    "# Find count data"
   ]
  },
  {
   "cell_type": "code",
   "execution_count": 8,
   "id": "e1e1cca4-bc7f-411b-afae-9553e6a84e1a",
   "metadata": {},
   "outputs": [],
   "source": [
    "panres_mapstats = {os.path.basename(f).replace('.mapstat', ''): f for f in glob.glob(os.path.join('..', 'data', 'mapstats', '*.mapstat'))}"
   ]
  },
  {
   "cell_type": "code",
   "execution_count": 9,
   "id": "1ac47cfb-7403-4dc0-bae4-8078c1346427",
   "metadata": {},
   "outputs": [
    {
     "name": "stdout",
     "output_type": "stream",
     "text": [
      " 49/49 \r"
     ]
    }
   ],
   "source": [
    "def read_mapstat(file):\n",
    "\n",
    "    # read tabular data\n",
    "    df = pd.read_csv(file, sep='\\t', skiprows=6)\n",
    "\n",
    "    # get file name , thus complete_name of sample\n",
    "    fname = os.path.basename(file).replace('.mapstat', '')\n",
    "    df['complete_name'] = fname\n",
    "\n",
    "    # rename first column to remove space\n",
    "    df = df.rename(columns = {'# refSequence': 'refSequence'})              \n",
    "\n",
    "    # in header of file, grep how many fragments there are in total\n",
    "    p = subprocess.run(f\"grep '## fragment' {file}\", shell=True, stdout=subprocess.PIPE)\n",
    "    o = int(p.stdout.decode().strip().split('\\t')[-1])\n",
    "\n",
    "    # save as dataframe\n",
    "    tot_fragment = pd.DataFrame([fname, o], index=['complete_name', 'total_fragments']).T\n",
    "    return df, tot_fragment\n",
    "\n",
    "def parse_mapstat(file, biocide_fa, resfinder_fa):\n",
    "\n",
    "    mapstat_df, tot_fragments= read_mapstat(file)\n",
    "\n",
    "\n",
    "    resfinder_mapstat = mapstat_df[['complete_name', 'refSequence', 'fragmentCountAln']].merge(resfinder_fa, left_on='refSequence', right_on='gene')\n",
    "    resfinder_mapstat['fragmentCountAln_adj'] = resfinder_mapstat['fragmentCountAln'] / (resfinder_mapstat['gene_length'].astype(int) / 1e3)\n",
    "\n",
    "    biocide_mapstat = mapstat_df[['complete_name', 'refSequence', 'fragmentCountAln']].merge(biocide_fa, left_on='refSequence', right_on='gene')\n",
    "    biocide_mapstat['fragmentCountAln_adj'] = biocide_mapstat['fragmentCountAln'] / (biocide_mapstat['gene_length'].astype(int) / 1e3)\n",
    "    \n",
    "    tot_fragments['n_resfinder_genes'] = resfinder_mapstat['refSequence'].nunique()\n",
    "    tot_fragments['n_biocide_genes'] = biocide_mapstat['refSequence'].nunique()\n",
    "    tot_fragments['total_resfinder_counts'] = resfinder_mapstat['fragmentCountAln_adj'].sum()\n",
    "    tot_fragments['total_biocide_counts'] = biocide_mapstat['fragmentCountAln_adj'].sum()\n",
    "    \n",
    "    \n",
    "    return tot_fragments, resfinder_mapstat, biocide_mapstat\n",
    "\n",
    "\n",
    "resfinder_mapstats = []\n",
    "biocide_mapstats = []\n",
    "\n",
    "all_tots = []\n",
    "\n",
    "#for mapstat_file in panres_mapstats:\n",
    "complete_names = df['complete_name'].values\n",
    "for i, complete_name in enumerate(complete_names):\n",
    "    print(f\" {i+1}/{len(complete_names)} \", end='\\r')\n",
    "    mapstat_file = panres_mapstats[complete_name]\n",
    "    tf, rf_mapstat, bc_mapstat = parse_mapstat(mapstat_file, biocide_fa=biocide_fa, resfinder_fa=resfinder_fa)\n",
    "\n",
    "    all_tots.append(tf)\n",
    "    resfinder_mapstats.append(rf_mapstat)\n",
    "    biocide_mapstats.append(bc_mapstat)\n"
   ]
  },
  {
   "cell_type": "markdown",
   "id": "9a9d58fe-4e64-4c19-b266-59b8bf9d3526",
   "metadata": {},
   "source": [
    "## Extract total counts"
   ]
  },
  {
   "cell_type": "code",
   "execution_count": 10,
   "id": "9a4f1112-ca41-47cf-b161-ecdc3178ac79",
   "metadata": {},
   "outputs": [],
   "source": [
    "motu_kingdom_counts = pd.read_csv('../motus_counts/motus_agg_pad/kingdom_motus_pad_agg_counts.csv')\n",
    "bacterial_counts = df[['complete_name', 'genepid']].merge(motu_kingdom_counts[['genepid', 'Bacteria']], on='genepid').drop(columns='genepid').rename(columns={'Bacteria': 'total_bacteria_counts'})"
   ]
  },
  {
   "cell_type": "code",
   "execution_count": 11,
   "id": "900d1116-2970-4fdb-9f72-883963942a64",
   "metadata": {},
   "outputs": [],
   "source": [
    "total_counts = pd.concat(all_tots).merge(bacterial_counts, on='complete_name')\n",
    "\n",
    "total_counts[['complete_name', 'total_fragments', 'total_bacteria_counts', 'total_resfinder_counts', 'total_biocide_counts']].to_excel(writer, sheet_name='total_counts', index=None)\n",
    "total_counts[['complete_name', 'n_resfinder_genes', 'n_biocide_genes']].to_excel(writer, sheet_name='total_genes_found', index=None)"
   ]
  },
  {
   "cell_type": "markdown",
   "id": "08c47596-c92c-4d0c-b845-341be2b8fe30",
   "metadata": {},
   "source": [
    "## ResFinder counts"
   ]
  },
  {
   "cell_type": "code",
   "execution_count": 12,
   "id": "d56ac79a-91f4-41fe-a513-d9867ddf4e02",
   "metadata": {},
   "outputs": [],
   "source": [
    "resfinder_class_counts = pd.concat(resfinder_mapstats).groupby(['complete_name', 'class']).agg({'gene': 'nunique', 'fragmentCountAln_adj': 'sum'})\n",
    "resfinder_class_counts[['gene']].reset_index().pivot_table(index='complete_name', columns='class', values='gene').to_excel(writer, sheet_name='resfinder_class_gene_matches')"
   ]
  },
  {
   "cell_type": "code",
   "execution_count": 13,
   "id": "f2a11fc6-d5fc-47b4-9da4-b26aee31ad74",
   "metadata": {},
   "outputs": [],
   "source": [
    "resfinder_class_counts.reset_index().pivot_table(index='complete_name', columns='class', values='fragmentCountAln_adj', aggfunc='sum').to_excel('resfinder_class_counts.xlsx')"
   ]
  },
  {
   "cell_type": "code",
   "execution_count": 14,
   "id": "cb412734-37c4-406a-81fc-6c180499d195",
   "metadata": {},
   "outputs": [],
   "source": [
    "pd.concat(resfinder_mapstats).pivot_table(index='complete_name', columns='value', values='fragmentCountAln_adj').to_excel('resfinder_gene_counts.xlsx')"
   ]
  },
  {
   "cell_type": "markdown",
   "id": "0f3af0bb-450e-4625-b8fa-9e8286dd0d11",
   "metadata": {},
   "source": [
    "## Biocide counts"
   ]
  },
  {
   "cell_type": "code",
   "execution_count": 15,
   "id": "e1172a81-5510-49cf-ab90-b714966fde9e",
   "metadata": {},
   "outputs": [],
   "source": [
    "biocide_compound_counts = pd.concat(biocide_mapstats).groupby(['complete_name', 'compound']).agg({'gene': 'nunique', 'fragmentCountAln_adj': 'sum'}).reset_index()\n",
    "biocide_compound_counts.pivot_table(index='complete_name', columns='compound', values='gene').to_excel(writer, sheet_name='biocide_class_gene_matches')\n",
    "biocide_compound_counts.pivot_table(index='complete_name', columns='compound', values='fragmentCountAln_adj', aggfunc='sum').to_excel('biocide_class_counts.xlsx')"
   ]
  },
  {
   "cell_type": "code",
   "execution_count": 16,
   "id": "328c9e94-e7ff-4ded-81f8-2aaa86d09c40",
   "metadata": {},
   "outputs": [],
   "source": [
    "pd.concat(biocide_mapstats).pivot_table(index='complete_name', columns='value', values='fragmentCountAln_adj').to_excel('biocide_gene_counts.xlsx')"
   ]
  },
  {
   "cell_type": "code",
   "execution_count": 17,
   "id": "0e07cde6-6a5e-4f39-93aa-33e62c8bda26",
   "metadata": {},
   "outputs": [],
   "source": [
    "writer.close()"
   ]
  }
 ],
 "metadata": {
  "kernelspec": {
   "display_name": "Python 3 (ipykernel)",
   "language": "python",
   "name": "python3"
  },
  "language_info": {
   "codemirror_mode": {
    "name": "ipython",
    "version": 3
   },
   "file_extension": ".py",
   "mimetype": "text/x-python",
   "name": "python",
   "nbconvert_exporter": "python",
   "pygments_lexer": "ipython3",
   "version": "3.12.1"
  }
 },
 "nbformat": 4,
 "nbformat_minor": 5
}
